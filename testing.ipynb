{
 "cells": [
  {
   "cell_type": "markdown",
   "metadata": {},
   "source": [
    "# Test in Real Time"
   ]
  },
  {
   "cell_type": "code",
   "execution_count": 1,
   "metadata": {},
   "outputs": [],
   "source": [
    "import cv2\n",
    "import numpy as np\n",
    "import mediapipe as mp"
   ]
  },
  {
   "cell_type": "markdown",
   "metadata": {},
   "source": [
    "# 2. Keypoints using MP Holistic"
   ]
  },
  {
   "cell_type": "code",
   "execution_count": 2,
   "metadata": {},
   "outputs": [],
   "source": [
    "mp_holistic = mp.solutions.holistic # Holistic model\n",
    "mp_drawing = mp.solutions.drawing_utils # Drawing utilities"
   ]
  },
  {
   "cell_type": "code",
   "execution_count": 3,
   "metadata": {},
   "outputs": [],
   "source": [
    "def mediapipe_detection(image, model):\n",
    "    image = cv2.cvtColor(image, cv2.COLOR_BGR2RGB) # COLOR CONVERSION BGR 2 RGB\n",
    "    image.flags.writeable = False                  # Image is no longer writeable\n",
    "    results = model.process(image)                 # Make prediction\n",
    "    image.flags.writeable = True                   # Image is now writeable \n",
    "    image = cv2.cvtColor(image, cv2.COLOR_RGB2BGR) # COLOR COVERSION RGB 2 BGR\n",
    "    return image, results"
   ]
  },
  {
   "cell_type": "code",
   "execution_count": 4,
   "metadata": {},
   "outputs": [],
   "source": [
    "def draw_landmarks(image, results):\n",
    "    mp_drawing.draw_landmarks(image, results.face_landmarks, mp_holistic.FACEMESH_TESSELATION) # Draw face connections\n",
    "    mp_drawing.draw_landmarks(image, results.pose_landmarks, mp_holistic.POSE_CONNECTIONS) # Draw pose connections\n",
    "    mp_drawing.draw_landmarks(image, results.left_hand_landmarks, mp_holistic.HAND_CONNECTIONS) # Draw left hand connections\n",
    "    mp_drawing.draw_landmarks(image, results.right_hand_landmarks, mp_holistic.HAND_CONNECTIONS) # Draw right hand connections"
   ]
  },
  {
   "cell_type": "code",
   "execution_count": 5,
   "metadata": {},
   "outputs": [],
   "source": [
    "def draw_styled_landmarks(image, results):\n",
    "    # Draw right hand connections  \n",
    "    mp_drawing.draw_landmarks(image, results.right_hand_landmarks, mp_holistic.HAND_CONNECTIONS, \n",
    "                             mp_drawing.DrawingSpec(color=(245,117,66), thickness=2, circle_radius=4), \n",
    "                             mp_drawing.DrawingSpec(color=(245,66,230), thickness=2, circle_radius=2)\n",
    "                             ) \n",
    "    mp_drawing.draw_landmarks(image, results.left_hand_landmarks, mp_holistic.HAND_CONNECTIONS, \n",
    "                             mp_drawing.DrawingSpec(color=(245,117,66), thickness=2, circle_radius=4), \n",
    "                             mp_drawing.DrawingSpec(color=(245,66,230), thickness=2, circle_radius=2)\n",
    "                             ) "
   ]
  },
  {
   "cell_type": "code",
   "execution_count": 6,
   "metadata": {},
   "outputs": [],
   "source": [
    "def extract_keypoints(results):\n",
    "    rh = np.array([[res.x, res.y, res.z] for res in results.right_hand_landmarks.landmark]).flatten() if results.right_hand_landmarks else np.zeros(21*3)\n",
    "    #lh = np.array([[res.x, res.y, res.z] for res in results.left_hand_landmarks.landmark]).flatten() if results.left_hand_landmarks else np.zeros(21*3)\n",
    "    #return np.concatenate([rh,lh])\n",
    "    return rh"
   ]
  },
  {
   "cell_type": "code",
   "execution_count": 7,
   "metadata": {},
   "outputs": [],
   "source": [
    "from scipy import stats\n",
    "\n",
    "# Actions that we try to detect\n",
    "actions = np.array(['a','b','c','d','e','f','g','h','i','j','k','l','m','n','o','p','q','r','s','t','u','v','w','x','y','z'])"
   ]
  },
  {
   "cell_type": "code",
   "execution_count": 27,
   "metadata": {},
   "outputs": [
    {
     "name": "stdout",
     "output_type": "stream",
     "text": [
      "1/1 [==============================] - 0s 496ms/step\n",
      "a\n",
      "1/1 [==============================] - 0s 25ms/step\n",
      "e\n",
      "1/1 [==============================] - 0s 25ms/step\n",
      "b\n",
      "1/1 [==============================] - 0s 25ms/step\n",
      "e\n",
      "1/1 [==============================] - 0s 23ms/step\n",
      "d\n",
      "1/1 [==============================] - 0s 23ms/step\n",
      "d\n",
      "1/1 [==============================] - 0s 23ms/step\n",
      "d\n",
      "1/1 [==============================] - 0s 23ms/step\n",
      "d\n",
      "1/1 [==============================] - 0s 25ms/step\n",
      "d\n",
      "1/1 [==============================] - 0s 22ms/step\n",
      "p\n",
      "1/1 [==============================] - 0s 24ms/step\n",
      "f\n",
      "1/1 [==============================] - 0s 24ms/step\n",
      "g\n",
      "1/1 [==============================] - 0s 25ms/step\n",
      "h\n",
      "1/1 [==============================] - 0s 24ms/step\n",
      "i\n",
      "1/1 [==============================] - 0s 23ms/step\n",
      "j\n",
      "1/1 [==============================] - 0s 23ms/step\n",
      "d\n",
      "1/1 [==============================] - 0s 23ms/step\n",
      "k\n",
      "1/1 [==============================] - 0s 23ms/step\n",
      "g\n",
      "1/1 [==============================] - 0s 23ms/step\n",
      "g\n",
      "1/1 [==============================] - 0s 23ms/step\n",
      "l\n",
      "1/1 [==============================] - 0s 23ms/step\n",
      "e\n",
      "1/1 [==============================] - 0s 22ms/step\n",
      "e\n",
      "1/1 [==============================] - 0s 23ms/step\n",
      "m\n",
      "1/1 [==============================] - 0s 22ms/step\n",
      "m\n",
      "1/1 [==============================] - 0s 26ms/step\n",
      "m\n",
      "1/1 [==============================] - 0s 23ms/step\n",
      "l\n",
      "1/1 [==============================] - 0s 22ms/step\n",
      "n\n",
      "1/1 [==============================] - 0s 23ms/step\n",
      "o\n",
      "1/1 [==============================] - 0s 25ms/step\n",
      "p\n",
      "1/1 [==============================] - 0s 22ms/step\n",
      "p\n",
      "1/1 [==============================] - 0s 23ms/step\n",
      "p\n",
      "1/1 [==============================] - 0s 27ms/step\n",
      "p\n",
      "1/1 [==============================] - 0s 23ms/step\n",
      "u\n",
      "1/1 [==============================] - 0s 22ms/step\n",
      "u\n",
      "1/1 [==============================] - 0s 24ms/step\n",
      "u\n",
      "1/1 [==============================] - 0s 22ms/step\n",
      "u\n",
      "1/1 [==============================] - 0s 23ms/step\n",
      "v\n",
      "1/1 [==============================] - 0s 23ms/step\n",
      "u\n",
      "1/1 [==============================] - 0s 23ms/step\n",
      "u\n",
      "1/1 [==============================] - 0s 23ms/step\n",
      "u\n",
      "1/1 [==============================] - 0s 24ms/step\n",
      "u\n",
      "1/1 [==============================] - 0s 23ms/step\n",
      "u\n",
      "1/1 [==============================] - 0s 23ms/step\n",
      "u\n",
      "1/1 [==============================] - 0s 23ms/step\n",
      "v\n",
      "1/1 [==============================] - 0s 23ms/step\n",
      "v\n",
      "1/1 [==============================] - 0s 24ms/step\n",
      "v\n",
      "1/1 [==============================] - 0s 23ms/step\n",
      "v\n",
      "1/1 [==============================] - 0s 22ms/step\n",
      "v\n",
      "1/1 [==============================] - 0s 25ms/step\n",
      "w\n",
      "1/1 [==============================] - 0s 24ms/step\n",
      "x\n",
      "1/1 [==============================] - 0s 24ms/step\n",
      "y\n",
      "1/1 [==============================] - 0s 23ms/step\n",
      "y\n",
      "1/1 [==============================] - 0s 23ms/step\n",
      "y\n",
      "1/1 [==============================] - 0s 23ms/step\n",
      "y\n",
      "1/1 [==============================] - 0s 21ms/step\n",
      "z\n"
     ]
    }
   ],
   "source": [
    "# 1. New detection variables\n",
    "from keras.models import load_model\n",
    "sequence = []\n",
    "sentence = []\n",
    "predictions = []\n",
    "threshold = 0.9\n",
    "model = load_model('models/right_a-z.h5')\n",
    "cap = cv2.VideoCapture(0)\n",
    "# Set mediapipe model \n",
    "with mp_holistic.Holistic(min_detection_confidence=0.5, min_tracking_confidence=0.5) as holistic:\n",
    "    while cap.isOpened():\n",
    "\n",
    "        # Read feed\n",
    "        ret, frame = cap.read()\n",
    "\n",
    "        # Make detections\n",
    "        image, results = mediapipe_detection(frame, holistic)\n",
    "        #print(results)\n",
    "        \n",
    "        # Draw landmarks\n",
    "        draw_styled_landmarks(image, results)\n",
    "        \n",
    "        if results.right_hand_landmarks:\n",
    "        # 2. Prediction logic\n",
    "            keypoints = extract_keypoints(results)\n",
    "            sequence.append(keypoints)\n",
    "            sequence = sequence[-30:]\n",
    "            \n",
    "            if len(sequence) == 30:\n",
    "                res = model.predict(np.expand_dims(sequence, axis=0))[0]\n",
    "                print(actions[np.argmax(res)])\n",
    "                    \n",
    "            #3. Viz logic\n",
    "                if res[np.argmax(res)] > threshold: \n",
    "                    sentence.append(actions[np.argmax(res)])\n",
    "                    sequence.clear()\n",
    "\n",
    "                if len(sentence) > 5: \n",
    "                    sentence = sentence[-5:]\n",
    "        else:\n",
    "            cv2.putText(image, 'Hand is not detected', (120,200), cv2.FONT_HERSHEY_SIMPLEX, 1, (0,255, 0), 4, cv2.LINE_AA)\n",
    "            sequence.clear()\n",
    "           \n",
    "                \n",
    "        #cv2.rectangle(image, (0,0), (640, 40), (245, 117, 16), -1)\n",
    "        cv2.putText(image, ' '.join(sentence), (3,30), \n",
    "                    cv2.FONT_HERSHEY_SIMPLEX, 1, (255, 255, 255), 2, cv2.LINE_AA)\n",
    "        \n",
    "        # Show to screen\n",
    "        cv2.imshow('OpenCV Feed', image)\n",
    "        # Break gracefully\n",
    "        if cv2.waitKey(10) & 0xFF == ord('q'):\n",
    "            break\n",
    "    cap.release()\n",
    "    cv2.destroyAllWindows()"
   ]
  }
 ],
 "metadata": {
  "kernelspec": {
   "display_name": "Python 3.10.8 64-bit (microsoft store)",
   "language": "python",
   "name": "python3"
  },
  "language_info": {
   "codemirror_mode": {
    "name": "ipython",
    "version": 3
   },
   "file_extension": ".py",
   "mimetype": "text/x-python",
   "name": "python",
   "nbconvert_exporter": "python",
   "pygments_lexer": "ipython3",
   "version": "3.10.8"
  },
  "orig_nbformat": 4,
  "vscode": {
   "interpreter": {
    "hash": "4fbc0d947eaf72472870e97615f0a91e96587ef360d5dee6574c34fa65f37b07"
   }
  }
 },
 "nbformat": 4,
 "nbformat_minor": 2
}
